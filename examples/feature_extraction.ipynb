{
 "cells": [
  {
   "cell_type": "code",
   "execution_count": 16,
   "id": "initial_id",
   "metadata": {
    "collapsed": true,
    "ExecuteTime": {
     "end_time": "2024-11-17T15:01:03.907944500Z",
     "start_time": "2024-11-17T15:01:03.893330600Z"
    }
   },
   "outputs": [
    {
     "name": "stdout",
     "output_type": "stream",
     "text": [
      "Using device: cuda\n"
     ]
    }
   ],
   "source": [
    "import os\n",
    "import sys\n",
    "import matplotlib.pyplot as plt\n",
    "sys.path.append(\"../\")\n",
    "\n",
    "from predict.crop_frames import get_local_crops\n",
    "from predict.create_dino_features import video_to_embeddings\n",
    "from predict.predict_dino import create_dino_model"
   ]
  },
  {
   "cell_type": "code",
   "execution_count": 17,
   "outputs": [],
   "source": [
    "clip_folder = \"/auto/plzen4-ntis/projects/korpusy_cv/JSALT/YouTubeASL_v2/data/train/clips_cropped\"\n",
    "\n",
    "face_checkpoint = \"/auto/plzen4-ntis/projects/korpusy_cv/JSALT/checkpoints/DINOv2/face/teacher_checkpoint.pth\"\n",
    "hand_checkpoint = \"/auto/plzen4-ntis/projects/korpusy_cv/JSALT/checkpoints/DINOv2/hand/teacher_checkpoint.pth\"\n",
    "\n",
    "num_frames = 10\n",
    "\n",
    "clip_names = os.listdir(clip_folder)\n",
    "clip_names = [file for file in clip_names if file.endswith(\".mp4\")]"
   ],
   "metadata": {
    "collapsed": false,
    "ExecuteTime": {
     "end_time": "2024-11-17T15:02:36.200522500Z",
     "start_time": "2024-11-17T15:02:36.184799600Z"
    }
   },
   "id": "7c44fa443daac3f3"
  },
  {
   "cell_type": "code",
   "execution_count": 25,
   "outputs": [],
   "source": [
    "# crop face and hands\n",
    "\n",
    "clip_name = clip_names[0]\n",
    "clip_name = clip_name.replace(\".mp4\", \"\")\n",
    "clip_path = os.path.join(clip_folder, clip_name)\n",
    "\n",
    "face, hand_left, hand_right = get_local_crops(clip_path)\n",
    "\n",
    "fig, ax = plt.subplots(3, num_frames, figsize=(num_frames*4, 3*4))\n",
    "for fidx in range(num_frames):\n",
    "    ax[0, fidx].imshow(face[fidx])\n",
    "    ax[1, fidx].imshow(hand_left[fidx])\n",
    "    ax[2, fidx].imshow(hand_right[fidx])\n",
    "plt.show()"
   ],
   "metadata": {
    "collapsed": false,
    "ExecuteTime": {
     "end_time": "2024-11-17T15:09:19.201693Z",
     "start_time": "2024-11-17T15:09:19.166170500Z"
    }
   },
   "id": "ab0ce1ee4798dcbb"
  },
  {
   "cell_type": "code",
   "execution_count": 25,
   "outputs": [],
   "source": [
    "# initialize models\n",
    "\n",
    "face_model = create_dino_model(face_checkpoint)\n",
    "hand_model = create_dino_model(hand_checkpoint)\n",
    "face_model = face_model.cuda().eval()\n",
    "hand_model = hand_model.cuda().eval()"
   ],
   "metadata": {
    "collapsed": false,
    "ExecuteTime": {
     "end_time": "2024-11-17T15:09:25.390036100Z",
     "start_time": "2024-11-17T15:09:25.374684100Z"
    }
   },
   "id": "7658571b5134d9f6"
  },
  {
   "cell_type": "code",
   "execution_count": 25,
   "outputs": [
    {
     "name": "stdout",
     "output_type": "stream",
     "text": [
      "face_features (242, 384)\n",
      "left_features (242, 384)\n",
      "right_features (242, 384)\n"
     ]
    }
   ],
   "source": [
    "# extract features\n",
    "\n",
    "face_features = video_to_embeddings(face, face_model, batch_size=32)\n",
    "left_features = video_to_embeddings(hand_left, hand_model, batch_size=32)\n",
    "right_features = video_to_embeddings(hand_right, hand_model, batch_size=32)\n",
    "\n",
    "print(\"face_features\", face_features.shape)\n",
    "print(\"left_features\", left_features.shape)\n",
    "print(\"right_features\", right_features.shape)"
   ],
   "metadata": {
    "collapsed": false,
    "ExecuteTime": {
     "end_time": "2024-11-17T15:05:06.179364200Z",
     "start_time": "2024-11-17T15:05:01.004548700Z"
    }
   },
   "id": "c2925c7d660c53cf"
  },
  {
   "cell_type": "code",
   "execution_count": null,
   "outputs": [],
   "source": [],
   "metadata": {
    "collapsed": false
   },
   "id": "826f032deb19e9ae"
  }
 ],
 "metadata": {
  "kernelspec": {
   "display_name": "Python 3",
   "language": "python",
   "name": "python3"
  },
  "language_info": {
   "codemirror_mode": {
    "name": "ipython",
    "version": 2
   },
   "file_extension": ".py",
   "mimetype": "text/x-python",
   "name": "python",
   "nbconvert_exporter": "python",
   "pygments_lexer": "ipython2",
   "version": "2.7.6"
  }
 },
 "nbformat": 4,
 "nbformat_minor": 5
}
